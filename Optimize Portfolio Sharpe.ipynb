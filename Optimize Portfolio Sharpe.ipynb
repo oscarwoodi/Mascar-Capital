{
 "cells": [
  {
   "cell_type": "markdown",
   "id": "17ec9d80",
   "metadata": {},
   "source": [
    "# Content\n",
    "1. ['Optimizing Portfolio Sharp'](#1)\n",
    "- Given a list of tickers = ['AAPL', 'MSFT', 'AMZN', 'GOOGL', 'META', 'TSLA', 'BRK-A', 'V', 'JNJ', 'WMT']\n",
    "\n",
    "- Highest sharpe ratio of 1.07 is attained with high weight in MSFT (40%).  The performance of MSFT dominates the portfolio. TSLA, JNJ and WMT have weights of 12%, the rest are less than 10%. "
   ]
  },
  {
   "cell_type": "markdown",
   "id": "7ef78b71",
   "metadata": {},
   "source": [
    "# 1. Optimizing Portfolio Sharpe\n",
    "<a id='1'></a>\n",
    "\n",
    "- Given a list of tickers = ['AAPL', 'MSFT', 'AMZN', 'GOOGL', 'META', 'TSLA', 'BRK-A', 'V', 'JNJ', 'WMT']\n",
    "\n",
    "- Highest sharpe ratio of 1.07 is attained with high weight in MSFT (40%).  The performance of MSFT dominates the portfolio. TSLA, JNJ and WMT have weights of 12%, the rest are less than 10%. \n"
   ]
  },
  {
   "cell_type": "code",
   "execution_count": 157,
   "id": "28af16ec",
   "metadata": {},
   "outputs": [
    {
     "name": "stderr",
     "output_type": "stream",
     "text": [
      "[*********************100%***********************]  1 of 1 completed\n",
      "[*********************100%***********************]  1 of 1 completed\n",
      "[*********************100%***********************]  1 of 1 completed\n",
      "[*********************100%***********************]  1 of 1 completed"
     ]
    },
    {
     "name": "stdout",
     "output_type": "stream",
     "text": [
      "                  EWW       SPYV        XLP        XLV\n",
      "Date                                                  \n",
      "2013-01-02  56.153927  13.862442  26.276752  33.628231\n",
      "2013-01-03  56.044548  13.901956  26.210697  33.669571\n",
      "2013-01-04  56.450829  13.933946  26.284096  33.818401\n",
      "2013-01-07  56.333618  13.905714  26.107939  33.925896\n",
      "2013-01-08  56.169544  13.841745  26.034546  33.934158\n"
     ]
    },
    {
     "name": "stderr",
     "output_type": "stream",
     "text": [
      "\n"
     ]
    }
   ],
   "source": [
    "import numpy as np\n",
    "import pandas as pd\n",
    "import matplotlib.pyplot as plt\n",
    "import yfinance as yf\n",
    "from datetime import datetime\n",
    "\n",
    "import warnings\n",
    "warnings.filterwarnings('ignore')\n",
    "\n",
    "# List of tickers\n",
    "#tickers = ['CGW', 'EWW', 'SPYV', 'VNQ', 'XHB', 'XLP', 'XLU', 'XLV']\n",
    "tickers = ['EWW', 'SPYV', 'XLP', 'XLV']\n",
    "\n",
    "# Get the current date\n",
    "today = datetime.now().date()\n",
    "start = '2013-01-01'\n",
    "end = '2023-11-18'\n",
    "count = len(tickers)\n",
    "\n",
    "# Initialize empty dataframe to store merged data\n",
    "dfmerge = pd.DataFrame()\n",
    "\n",
    "for ticker in tickers:\n",
    "    # Use yf.download() directly\n",
    "    df = yf.download(ticker, start=start, end=end)\n",
    "    \n",
    "    # Select only the 'Adj Close' column\n",
    "    df = df[['Adj Close']]\n",
    "    \n",
    "    # Rename the 'Adj Close' column to the ticker symbol\n",
    "    df = df.rename(columns={'Adj Close': ticker})\n",
    "    \n",
    "    # Merge dataframes\n",
    "    if dfmerge.empty:\n",
    "        dfmerge = df\n",
    "    else:\n",
    "        dfmerge = dfmerge.join(df, how='outer')\n",
    "\n",
    "# Display the merged dataframe\n",
    "print(dfmerge.head())\n"
   ]
  },
  {
   "cell_type": "code",
   "execution_count": 161,
   "id": "0aaf35a9",
   "metadata": {},
   "outputs": [
    {
     "data": {
      "text/html": [
       "<div>\n",
       "<style scoped>\n",
       "    .dataframe tbody tr th:only-of-type {\n",
       "        vertical-align: middle;\n",
       "    }\n",
       "\n",
       "    .dataframe tbody tr th {\n",
       "        vertical-align: top;\n",
       "    }\n",
       "\n",
       "    .dataframe thead th {\n",
       "        text-align: right;\n",
       "    }\n",
       "</style>\n",
       "<table border=\"1\" class=\"dataframe\">\n",
       "  <thead>\n",
       "    <tr style=\"text-align: right;\">\n",
       "      <th></th>\n",
       "      <th>Sharpe Ratio</th>\n",
       "    </tr>\n",
       "  </thead>\n",
       "  <tbody>\n",
       "    <tr>\n",
       "      <th>EWW</th>\n",
       "      <td>-0.065908</td>\n",
       "    </tr>\n",
       "    <tr>\n",
       "      <th>SPYV</th>\n",
       "      <td>0.390339</td>\n",
       "    </tr>\n",
       "    <tr>\n",
       "      <th>XLP</th>\n",
       "      <td>0.311717</td>\n",
       "    </tr>\n",
       "    <tr>\n",
       "      <th>XLV</th>\n",
       "      <td>0.498817</td>\n",
       "    </tr>\n",
       "  </tbody>\n",
       "</table>\n",
       "</div>"
      ],
      "text/plain": [
       "      Sharpe Ratio\n",
       "EWW      -0.065908\n",
       "SPYV      0.390339\n",
       "XLP       0.311717\n",
       "XLV       0.498817"
      ]
     },
     "execution_count": 161,
     "metadata": {},
     "output_type": "execute_result"
    }
   ],
   "source": [
    "\n",
    "daily_returns = dfmerge.pct_change().dropna()\n",
    "\n",
    "risk_free_rate=0.0525/252\n",
    "# Initialize an empty dictionary to store Sharpe ratios\n",
    "sharpe_ratios = {}\n",
    "\n",
    "# Calculate Sharpe ratio for each stock\n",
    "for ticker in tickers:\n",
    "    # Calculate excess daily returns (return - risk-free rate)\n",
    "    excess_returns = daily_returns[ticker] - risk_free_rate\n",
    "    \n",
    "    # Calculate Sharpe ratio: Mean excess return divided by standard deviation of returns\n",
    "    sharpe_ratio = excess_returns.mean() / excess_returns.std() * np.sqrt(252)  # Annualize Sharpe ratio\n",
    "    sharpe_ratios[ticker] = sharpe_ratio\n",
    "\n",
    "# Convert the Sharpe ratios dictionary into a DataFrame for easy display\n",
    "sharpe_ratios_df = pd.DataFrame.from_dict(sharpe_ratios, orient='index', columns=['Sharpe Ratio'])\n",
    "sharpe_ratios_df"
   ]
  },
  {
   "cell_type": "code",
   "execution_count": 162,
   "id": "2ff59f5a",
   "metadata": {},
   "outputs": [
    {
     "data": {
      "text/html": [
       "<div>\n",
       "<style scoped>\n",
       "    .dataframe tbody tr th:only-of-type {\n",
       "        vertical-align: middle;\n",
       "    }\n",
       "\n",
       "    .dataframe tbody tr th {\n",
       "        vertical-align: top;\n",
       "    }\n",
       "\n",
       "    .dataframe thead th {\n",
       "        text-align: right;\n",
       "    }\n",
       "</style>\n",
       "<table border=\"1\" class=\"dataframe\">\n",
       "  <thead>\n",
       "    <tr style=\"text-align: right;\">\n",
       "      <th></th>\n",
       "      <th>Sharpe Ratio</th>\n",
       "    </tr>\n",
       "  </thead>\n",
       "  <tbody>\n",
       "    <tr>\n",
       "      <th>EWW</th>\n",
       "      <td>0.132281</td>\n",
       "    </tr>\n",
       "    <tr>\n",
       "      <th>SPYV</th>\n",
       "      <td>0.670844</td>\n",
       "    </tr>\n",
       "    <tr>\n",
       "      <th>XLP</th>\n",
       "      <td>0.617682</td>\n",
       "    </tr>\n",
       "    <tr>\n",
       "      <th>XLV</th>\n",
       "      <td>0.781000</td>\n",
       "    </tr>\n",
       "  </tbody>\n",
       "</table>\n",
       "</div>"
      ],
      "text/plain": [
       "      Sharpe Ratio\n",
       "EWW       0.132281\n",
       "SPYV      0.670844\n",
       "XLP       0.617682\n",
       "XLV       0.781000"
      ]
     },
     "execution_count": 162,
     "metadata": {},
     "output_type": "execute_result"
    }
   ],
   "source": [
    "import pandas_datareader.data as web\n",
    "\n",
    "# Fetch 3-month T-Bill rates from FRED\n",
    "t_bill_rate = web.DataReader(\"DTB3\", \"fred\", start, end)\n",
    "\n",
    "# Convert daily rates to daily equivalent\n",
    "t_bill_rate = t_bill_rate / 100 / 252  # Convert from annual percentage to daily rate\n",
    "\n",
    "# Merge the risk-free rate data with the stock data\n",
    "dfmerge_with_rf = dfmerge.join(t_bill_rate, how='inner')\n",
    "dfmerge_with_rf = dfmerge_with_rf.rename(columns={'DTB3': 'RiskFreeRate'})\n",
    "\n",
    "# Calculate daily returns for each stock in dfmerge_with_rf\n",
    "daily_returns = dfmerge_with_rf[tickers].pct_change().dropna()\n",
    "\n",
    "# Initialize an empty dictionary to store Sharpe ratios\n",
    "sharpe_ratios = {}\n",
    "\n",
    "# Calculate Sharpe ratio for each stock\n",
    "for ticker in tickers:\n",
    "    # Subtract the time-varying risk-free rate from daily returns\n",
    "    excess_returns = daily_returns[ticker] - dfmerge_with_rf['RiskFreeRate'].shift(1).dropna()\n",
    "\n",
    "    # Calculate Sharpe ratio: Mean excess return divided by standard deviation of returns\n",
    "    sharpe_ratio = excess_returns.mean() / excess_returns.std() * np.sqrt(252)  # Annualize Sharpe ratio\n",
    "    sharpe_ratios[ticker] = sharpe_ratio\n",
    "\n",
    "# Convert the Sharpe ratios dictionary into a DataFrame for easy display\n",
    "sharpe_ratios_df = pd.DataFrame.from_dict(sharpe_ratios, orient='index', columns=['Sharpe Ratio'])\n",
    "sharpe_ratios_df"
   ]
  },
  {
   "cell_type": "code",
   "execution_count": 163,
   "id": "372f0467",
   "metadata": {},
   "outputs": [
    {
     "data": {
      "text/html": [
       "<div>\n",
       "<style scoped>\n",
       "    .dataframe tbody tr th:only-of-type {\n",
       "        vertical-align: middle;\n",
       "    }\n",
       "\n",
       "    .dataframe tbody tr th {\n",
       "        vertical-align: top;\n",
       "    }\n",
       "\n",
       "    .dataframe thead th {\n",
       "        text-align: right;\n",
       "    }\n",
       "</style>\n",
       "<table border=\"1\" class=\"dataframe\">\n",
       "  <thead>\n",
       "    <tr style=\"text-align: right;\">\n",
       "      <th></th>\n",
       "      <th>EWW</th>\n",
       "      <th>SPYV</th>\n",
       "      <th>XLP</th>\n",
       "      <th>XLV</th>\n",
       "    </tr>\n",
       "    <tr>\n",
       "      <th>Date</th>\n",
       "      <th></th>\n",
       "      <th></th>\n",
       "      <th></th>\n",
       "      <th></th>\n",
       "    </tr>\n",
       "  </thead>\n",
       "  <tbody>\n",
       "    <tr>\n",
       "      <th>2013-01-02</th>\n",
       "      <td>56.153927</td>\n",
       "      <td>13.862442</td>\n",
       "      <td>26.276752</td>\n",
       "      <td>33.628231</td>\n",
       "    </tr>\n",
       "    <tr>\n",
       "      <th>2013-01-03</th>\n",
       "      <td>56.044548</td>\n",
       "      <td>13.901956</td>\n",
       "      <td>26.210697</td>\n",
       "      <td>33.669571</td>\n",
       "    </tr>\n",
       "    <tr>\n",
       "      <th>2013-01-04</th>\n",
       "      <td>56.450829</td>\n",
       "      <td>13.933946</td>\n",
       "      <td>26.284096</td>\n",
       "      <td>33.818401</td>\n",
       "    </tr>\n",
       "    <tr>\n",
       "      <th>2013-01-07</th>\n",
       "      <td>56.333618</td>\n",
       "      <td>13.905714</td>\n",
       "      <td>26.107939</td>\n",
       "      <td>33.925896</td>\n",
       "    </tr>\n",
       "    <tr>\n",
       "      <th>2013-01-08</th>\n",
       "      <td>56.169544</td>\n",
       "      <td>13.841745</td>\n",
       "      <td>26.034546</td>\n",
       "      <td>33.934158</td>\n",
       "    </tr>\n",
       "  </tbody>\n",
       "</table>\n",
       "</div>"
      ],
      "text/plain": [
       "                  EWW       SPYV        XLP        XLV\n",
       "Date                                                  \n",
       "2013-01-02  56.153927  13.862442  26.276752  33.628231\n",
       "2013-01-03  56.044548  13.901956  26.210697  33.669571\n",
       "2013-01-04  56.450829  13.933946  26.284096  33.818401\n",
       "2013-01-07  56.333618  13.905714  26.107939  33.925896\n",
       "2013-01-08  56.169544  13.841745  26.034546  33.934158"
      ]
     },
     "execution_count": 163,
     "metadata": {},
     "output_type": "execute_result"
    }
   ],
   "source": [
    "dfmerge.head()"
   ]
  },
  {
   "cell_type": "code",
   "execution_count": 165,
   "id": "16c411b5",
   "metadata": {},
   "outputs": [],
   "source": [
    "dfret = dfmerge.pct_change().apply(lambda x: np.log(1+x)).dropna()"
   ]
  },
  {
   "cell_type": "code",
   "execution_count": 175,
   "id": "a1a199c0",
   "metadata": {
    "scrolled": false
   },
   "outputs": [
    {
     "data": {
      "image/png": "[encoded data removed]",
      "text/plain": [
       "<Figure size 1080x864 with 4 Axes>"
      ]
     },
     "metadata": {
      "needs_background": "light"
     },
     "output_type": "display_data"
    }
   ],
   "source": [
    "fig, ax1 = plt.subplots(ncols=2, nrows=int(np.ceil(count/2)), figsize=(15, 3*count))  # Set the figure size here\n",
    "ax = ax1.flatten()\n",
    "\n",
    "for col, ax in zip(dfret.columns, ax):\n",
    "    ax.plot(dfret[col])\n",
    "    ax.set_title(col)"
   ]
  },
  {
   "cell_type": "code",
   "execution_count": 176,
   "id": "2d4c5f92",
   "metadata": {},
   "outputs": [
    {
     "data": {
      "text/plain": [
       "<Axes: >"
      ]
     },
     "execution_count": 176,
     "metadata": {},
     "output_type": "execute_result"
    },
    {
     "data": {
      "image/png": "[encoded data removed]",
      "text/plain": [
       "<Figure size 432x288 with 2 Axes>"
      ]
     },
     "metadata": {
      "needs_background": "light"
     },
     "output_type": "display_data"
    }
   ],
   "source": [
    "#!pip install seaborn\n",
    "import seaborn as sns\n",
    "sns.heatmap(dfret.corr())"
   ]
  },
  {
   "cell_type": "code",
   "execution_count": 177,
   "id": "ae6dbcda",
   "metadata": {},
   "outputs": [
    {
     "data": {
      "text/html": [
       "<div>\n",
       "<style scoped>\n",
       "    .dataframe tbody tr th:only-of-type {\n",
       "        vertical-align: middle;\n",
       "    }\n",
       "\n",
       "    .dataframe tbody tr th {\n",
       "        vertical-align: top;\n",
       "    }\n",
       "\n",
       "    .dataframe thead th {\n",
       "        text-align: right;\n",
       "    }\n",
       "</style>\n",
       "<table border=\"1\" class=\"dataframe\">\n",
       "  <thead>\n",
       "    <tr style=\"text-align: right;\">\n",
       "      <th></th>\n",
       "      <th>EWW</th>\n",
       "      <th>SPYV</th>\n",
       "      <th>XLP</th>\n",
       "      <th>XLV</th>\n",
       "    </tr>\n",
       "    <tr>\n",
       "      <th>Date</th>\n",
       "      <th></th>\n",
       "      <th></th>\n",
       "      <th></th>\n",
       "      <th></th>\n",
       "    </tr>\n",
       "  </thead>\n",
       "  <tbody>\n",
       "    <tr>\n",
       "      <th>2013-01-03</th>\n",
       "      <td>0.998052</td>\n",
       "      <td>1.002850</td>\n",
       "      <td>0.997486</td>\n",
       "      <td>1.001229</td>\n",
       "    </tr>\n",
       "    <tr>\n",
       "      <th>2013-01-04</th>\n",
       "      <td>1.005287</td>\n",
       "      <td>1.005158</td>\n",
       "      <td>1.000279</td>\n",
       "      <td>1.005655</td>\n",
       "    </tr>\n",
       "    <tr>\n",
       "      <th>2013-01-07</th>\n",
       "      <td>1.003200</td>\n",
       "      <td>1.003122</td>\n",
       "      <td>0.993576</td>\n",
       "      <td>1.008852</td>\n",
       "    </tr>\n",
       "    <tr>\n",
       "      <th>2013-01-08</th>\n",
       "      <td>1.000278</td>\n",
       "      <td>0.998507</td>\n",
       "      <td>0.990782</td>\n",
       "      <td>1.009097</td>\n",
       "    </tr>\n",
       "    <tr>\n",
       "      <th>2013-01-09</th>\n",
       "      <td>1.011688</td>\n",
       "      <td>0.999593</td>\n",
       "      <td>0.993017</td>\n",
       "      <td>1.020162</td>\n",
       "    </tr>\n",
       "  </tbody>\n",
       "</table>\n",
       "</div>"
      ],
      "text/plain": [
       "                 EWW      SPYV       XLP       XLV\n",
       "Date                                              \n",
       "2013-01-03  0.998052  1.002850  0.997486  1.001229\n",
       "2013-01-04  1.005287  1.005158  1.000279  1.005655\n",
       "2013-01-07  1.003200  1.003122  0.993576  1.008852\n",
       "2013-01-08  1.000278  0.998507  0.990782  1.009097\n",
       "2013-01-09  1.011688  0.999593  0.993017  1.020162"
      ]
     },
     "execution_count": 177,
     "metadata": {},
     "output_type": "execute_result"
    }
   ],
   "source": [
    "dfcumuret = dfret.cumsum().apply(np.exp)\n",
    "dfcumuret.head()"
   ]
  },
  {
   "cell_type": "code",
   "execution_count": 178,
   "id": "976d6baa",
   "metadata": {},
   "outputs": [
    {
     "data": {
      "text/plain": [
       "<Axes: xlabel='Date'>"
      ]
     },
     "execution_count": 178,
     "metadata": {},
     "output_type": "execute_result"
    },
    {
     "data": {
      "image/png": "[encoded data removed]",
      "text/plain": [
       "<Figure size 432x288 with 1 Axes>"
      ]
     },
     "metadata": {
      "needs_background": "light"
     },
     "output_type": "display_data"
    }
   ],
   "source": [
    "dfcumuret.plot()"
   ]
  },
  {
   "cell_type": "code",
   "execution_count": 134,
   "id": "6f05c337",
   "metadata": {},
   "outputs": [
    {
     "data": {
      "text/plain": [
       "<Axes: xlabel='Date'>"
      ]
     },
     "execution_count": 134,
     "metadata": {},
     "output_type": "execute_result"
    },
    {
     "data": {
      "image/png": "[encoded data removed]",
      "text/plain": [
       "<Figure size 432x288 with 1 Axes>"
      ]
     },
     "metadata": {
      "needs_background": "light"
     },
     "output_type": "display_data"
    }
   ],
   "source": [
    "dfcumuret_exTSLA = dfcumuret[tickers]\n",
    "dfcumuret_exTSLA.plot()"
   ]
  },
  {
   "cell_type": "markdown",
   "id": "f0a3f5f1",
   "metadata": {},
   "source": [
    "# Find stock weights (w) that minimize portfolio volatility"
   ]
  },
  {
   "cell_type": "code",
   "execution_count": 179,
   "id": "d9f786f4",
   "metadata": {},
   "outputs": [],
   "source": [
    "#!pip install scipy\n",
    "import scipy\n",
    "from scipy.optimize import Bounds\n",
    "from scipy.optimize import LinearConstraint\n",
    "from scipy.optimize import minimize\n",
    "\n",
    "bounds = Bounds(-1,1) # all weights between 0 and 1\n",
    "linear_constraint = LinearConstraint(np.ones(count), 1,1) # sum of weight >1 and <1, hence sum of weight = 1 (equality constraint)\n",
    "covar=dfret.cov()\n",
    "r=np.mean(dfret,axis=0)*252 # r = mean return of each stock\n",
    "\n",
    "weights = np.ones(count)\n",
    "x0 = [0.1]*count # initial guess of respective weights\n",
    "\n",
    "portfstrderr = lambda w: np.sqrt(np.dot(w, np.dot(w,covar))*252)\n",
    "\n",
    "res1 = minimize(portfstrderr, x0, method='trust-constr', constraints=linear_constraint, bounds=bounds)"
   ]
  },
  {
   "cell_type": "markdown",
   "id": "72683332",
   "metadata": {},
   "source": [
    "# methods?\n",
    "- <u/>trust-constr</u>\n",
    "    - equality and inequality constraints\n",
    "    - (eg) optimize portfolio weights, given that sum of weights equal 1\n",
    "- <u/>BFGS</u>\n",
    "    - unconstrained \n",
    "    - (eg) minimum of a quadratic function\n",
    "- <u/>L-BFGS-B</u>\n",
    "    - bound constraints"
   ]
  },
  {
   "cell_type": "code",
   "execution_count": 182,
   "id": "dede3302",
   "metadata": {},
   "outputs": [
    {
     "name": "stdout",
     "output_type": "stream",
     "text": [
      "return =  0.09\n",
      "vol =  0.14\n",
      "sharpe ratio =  0.66\n"
     ]
    }
   ],
   "source": [
    "def ret(r,w):\n",
    "    return r.dot(w)\n",
    "\n",
    "def vol(w,covar):\n",
    "    return np.sqrt(np.dot(w, np.dot(w,covar))*252)\n",
    "\n",
    "def sharpe(ret, vol):\n",
    "    return ret/vol\n",
    "\n",
    "w_min = res1.x\n",
    "ret1 = ret(r,w_min)\n",
    "vol1 = vol(w_min,covar)\n",
    "sharpe1 = sharpe(ret1, vol1)\n",
    "print('return = ', round(ret1,2))\n",
    "print('vol = ', round(vol1,2))\n",
    "print('sharpe ratio = ', round(sharpe1,2))"
   ]
  },
  {
   "cell_type": "markdown",
   "id": "3f489933",
   "metadata": {},
   "source": [
    "# Maximize sharpe ratio"
   ]
  },
  {
   "cell_type": "code",
   "execution_count": 183,
   "id": "0d80ad28",
   "metadata": {},
   "outputs": [],
   "source": [
    "invSharpe = lambda w: np.sqrt(np.dot(w, np.dot(w,covar))*252)   /    r.dot(w)\n",
    "res2 = minimize(invSharpe, x0, method='trust-constr', constraints=linear_constraint, bounds=bounds)"
   ]
  },
  {
   "cell_type": "code",
   "execution_count": 184,
   "id": "4dd51ba6",
   "metadata": {},
   "outputs": [
    {
     "name": "stdout",
     "output_type": "stream",
     "text": [
      "return =  0.17\n",
      "vol =  0.19\n",
      "sharpe ratio =  0.89\n"
     ]
    }
   ],
   "source": [
    "w_Sharpe = res2.x\n",
    "ret2 = ret(r,w_Sharpe)\n",
    "vol2 = vol(w_Sharpe,covar)\n",
    "sharpe2 = sharpe(ret2, vol2)\n",
    "print('return = ', round(ret2,2))\n",
    "print('vol = ', round(vol2,2))\n",
    "print('sharpe ratio = ', round(sharpe2,2))"
   ]
  },
  {
   "cell_type": "markdown",
   "id": "b012e383",
   "metadata": {},
   "source": [
    "# Analyse relationship of return, volatility and sharpe ratio"
   ]
  },
  {
   "cell_type": "code",
   "execution_count": 140,
   "id": "809a82a1",
   "metadata": {},
   "outputs": [
    {
     "data": {
      "text/plain": [
       "Text(0, 0.5, 'Return')"
      ]
     },
     "execution_count": 140,
     "metadata": {},
     "output_type": "execute_result"
    },
    {
     "data": {
      "image/png": "[encoded data removed]",
      "text/plain": [
       "<Figure size 432x288 with 2 Axes>"
      ]
     },
     "metadata": {
      "needs_background": "light"
     },
     "output_type": "display_data"
    }
   ],
   "source": [
    "w = w_min\n",
    "num_ports = 100\n",
    "r_min = ret(r,w_min)\n",
    "gap = (max(r) - r_min) / num_ports\n",
    "\n",
    "all_weights = np.zeros((num_ports, len(dfret.columns)))\n",
    "ret_arr = np.zeros(num_ports)\n",
    "vol_arr = np.zeros(num_ports)\n",
    "\n",
    "x0= w_min\n",
    "\n",
    "for i in range(num_ports):\n",
    "    port_ret = r_min + i*gap \n",
    "    double_constraints = LinearConstraint([np.ones(dfret.shape[1]), r], [1,port_ret], [1,port_ret])\n",
    "    # equality constraint : sum of weight == 1\n",
    "    # equality constraint : portfolio return == port_ret\n",
    "    portfvola = lambda w: np.sqrt(np.dot(w,np.dot(w,covar))*252)\n",
    "    res = minimize(portfvola, x0, method='trust-constr', constraints=double_constraints, bounds=bounds)\n",
    "    all_weights[i,:] = res.x # populate the weights for diff i\n",
    "    ret_arr[i] = port_ret\n",
    "    vol_arr[i] = vol(res.x, covar)\n",
    "    \n",
    "sharpe_arr = ret_arr/ vol_arr\n",
    "\n",
    "plt.scatter(vol_arr, ret_arr, c=sharpe_arr, cmap='viridis')\n",
    "plt.colorbar(label='Sharpe Ratio')\n",
    "plt.xlabel('Volatility')\n",
    "plt.ylabel('Return')"
   ]
  },
  {
   "cell_type": "code",
   "execution_count": 185,
   "id": "d2c3ccbd",
   "metadata": {},
   "outputs": [],
   "source": [
    "df_sharpe = pd.DataFrame({'sharpe':sharpe_arr, \n",
    "                          'ret_arr':ret_arr, 'vol_arr':vol_arr})"
   ]
  },
  {
   "cell_type": "code",
   "execution_count": 189,
   "id": "85f497d3",
   "metadata": {},
   "outputs": [
    {
     "data": {
      "text/html": [
       "<div>\n",
       "<style scoped>\n",
       "    .dataframe tbody tr th:only-of-type {\n",
       "        vertical-align: middle;\n",
       "    }\n",
       "\n",
       "    .dataframe tbody tr th {\n",
       "        vertical-align: top;\n",
       "    }\n",
       "\n",
       "    .dataframe thead th {\n",
       "        text-align: right;\n",
       "    }\n",
       "</style>\n",
       "<table border=\"1\" class=\"dataframe\">\n",
       "  <thead>\n",
       "    <tr style=\"text-align: right;\">\n",
       "      <th></th>\n",
       "      <th>sharpe</th>\n",
       "      <th>ret_arr</th>\n",
       "      <th>vol_arr</th>\n",
       "    </tr>\n",
       "  </thead>\n",
       "  <tbody>\n",
       "    <tr>\n",
       "      <th>0</th>\n",
       "      <td>0.662252</td>\n",
       "      <td>0.093207</td>\n",
       "      <td>0.140742</td>\n",
       "    </tr>\n",
       "    <tr>\n",
       "      <th>1</th>\n",
       "      <td>0.664274</td>\n",
       "      <td>0.093492</td>\n",
       "      <td>0.140743</td>\n",
       "    </tr>\n",
       "    <tr>\n",
       "      <th>2</th>\n",
       "      <td>0.666288</td>\n",
       "      <td>0.093777</td>\n",
       "      <td>0.140746</td>\n",
       "    </tr>\n",
       "    <tr>\n",
       "      <th>3</th>\n",
       "      <td>0.668294</td>\n",
       "      <td>0.094062</td>\n",
       "      <td>0.140750</td>\n",
       "    </tr>\n",
       "    <tr>\n",
       "      <th>4</th>\n",
       "      <td>0.670292</td>\n",
       "      <td>0.094347</td>\n",
       "      <td>0.140755</td>\n",
       "    </tr>\n",
       "    <tr>\n",
       "      <th>...</th>\n",
       "      <td>...</td>\n",
       "      <td>...</td>\n",
       "      <td>...</td>\n",
       "    </tr>\n",
       "    <tr>\n",
       "      <th>95</th>\n",
       "      <td>0.813059</td>\n",
       "      <td>0.120288</td>\n",
       "      <td>0.147945</td>\n",
       "    </tr>\n",
       "    <tr>\n",
       "      <th>96</th>\n",
       "      <td>0.814168</td>\n",
       "      <td>0.120573</td>\n",
       "      <td>0.148094</td>\n",
       "    </tr>\n",
       "    <tr>\n",
       "      <th>97</th>\n",
       "      <td>0.815266</td>\n",
       "      <td>0.120858</td>\n",
       "      <td>0.148244</td>\n",
       "    </tr>\n",
       "    <tr>\n",
       "      <th>98</th>\n",
       "      <td>0.816355</td>\n",
       "      <td>0.121143</td>\n",
       "      <td>0.148395</td>\n",
       "    </tr>\n",
       "    <tr>\n",
       "      <th>99</th>\n",
       "      <td>0.817434</td>\n",
       "      <td>0.121428</td>\n",
       "      <td>0.148548</td>\n",
       "    </tr>\n",
       "  </tbody>\n",
       "</table>\n",
       "<p>100 rows × 3 columns</p>\n",
       "</div>"
      ],
      "text/plain": [
       "      sharpe   ret_arr   vol_arr\n",
       "0   0.662252  0.093207  0.140742\n",
       "1   0.664274  0.093492  0.140743\n",
       "2   0.666288  0.093777  0.140746\n",
       "3   0.668294  0.094062  0.140750\n",
       "4   0.670292  0.094347  0.140755\n",
       "..       ...       ...       ...\n",
       "95  0.813059  0.120288  0.147945\n",
       "96  0.814168  0.120573  0.148094\n",
       "97  0.815266  0.120858  0.148244\n",
       "98  0.816355  0.121143  0.148395\n",
       "99  0.817434  0.121428  0.148548\n",
       "\n",
       "[100 rows x 3 columns]"
      ]
     },
     "execution_count": 189,
     "metadata": {},
     "output_type": "execute_result"
    }
   ],
   "source": [
    "df_sharpe"
   ]
  },
  {
   "cell_type": "code",
   "execution_count": 142,
   "id": "e4a35439",
   "metadata": {},
   "outputs": [],
   "source": [
    "all_weights_df = pd.DataFrame(all_weights)\n",
    "all_weights_df.columns = tickers"
   ]
  },
  {
   "cell_type": "code",
   "execution_count": 143,
   "id": "248b1727",
   "metadata": {},
   "outputs": [],
   "source": [
    "df_sharpe = df_sharpe.join(all_weights_df, how='left')"
   ]
  },
  {
   "cell_type": "code",
   "execution_count": 144,
   "id": "3c3d2122",
   "metadata": {},
   "outputs": [],
   "source": [
    "df_sharpe = df_sharpe.sort_values('sharpe',ascending=False)"
   ]
  },
  {
   "cell_type": "code",
   "execution_count": 145,
   "id": "da62bb84",
   "metadata": {},
   "outputs": [
    {
     "name": "stdout",
     "output_type": "stream",
     "text": [
      "['EWW', 'SPYV', 'XLP', 'XLV']\n",
      "\n",
      "average sharpe =  0.81\n",
      "ave_weights\n",
      "[np.float64(-0.194), np.float64(0.238), np.float64(0.56), np.float64(0.397)]\n",
      "\n",
      "average sharpe =  0.8\n",
      "ave_weights\n",
      "[np.float64(-0.171), np.float64(0.216), np.float64(0.577), np.float64(0.378)]\n",
      "\n",
      "average sharpe =  0.79\n",
      "ave_weights\n",
      "[np.float64(-0.148), np.float64(0.194), np.float64(0.595), np.float64(0.359)]\n",
      "\n",
      "average sharpe =  0.77\n",
      "ave_weights\n",
      "[np.float64(-0.125), np.float64(0.172), np.float64(0.613), np.float64(0.34)]\n",
      "\n",
      "average sharpe =  0.76\n",
      "ave_weights\n",
      "[np.float64(-0.102), np.float64(0.15), np.float64(0.631), np.float64(0.321)]\n",
      "\n",
      "average sharpe =  0.74\n",
      "ave_weights\n",
      "[np.float64(-0.079), np.float64(0.129), np.float64(0.648), np.float64(0.302)]\n",
      "\n",
      "average sharpe =  0.73\n",
      "ave_weights\n",
      "[np.float64(-0.056), np.float64(0.107), np.float64(0.666), np.float64(0.283)]\n",
      "\n",
      "average sharpe =  0.71\n",
      "ave_weights\n",
      "[np.float64(-0.033), np.float64(0.085), np.float64(0.684), np.float64(0.264)]\n",
      "\n",
      "average sharpe =  0.69\n",
      "ave_weights\n",
      "[np.float64(-0.01), np.float64(0.063), np.float64(0.702), np.float64(0.246)]\n",
      "\n",
      "average sharpe =  0.67\n",
      "ave_weights\n",
      "[np.float64(0.013), np.float64(0.041), np.float64(0.719), np.float64(0.227)]\n"
     ]
    }
   ],
   "source": [
    "print(tickers)\n",
    "\n",
    "for i in range(10):\n",
    "    # 0 - 9\n",
    "    # 10 - 19\n",
    "    # 90-99\n",
    "    ave_sharpe = df_sharpe['sharpe'][i*10:i*10+10].mean()\n",
    "    print()\n",
    "    print('average sharpe = ', round(ave_sharpe,2))\n",
    "    \n",
    "    ave_weights = []\n",
    "    for each in tickers:\n",
    "        ave_weight = df_sharpe[each][i*10:i*10+10].mean()\n",
    "        ave_weights.append(round(ave_weight,3))\n",
    "        \n",
    "    print('ave_weights')\n",
    "    print(ave_weights)"
   ]
  },
  {
   "cell_type": "code",
   "execution_count": 190,
   "id": "b3b78bd8",
   "metadata": {},
   "outputs": [],
   "source": [
    "weights = [-0.194, 0.238, 0.56, 0.397]"
   ]
  },
  {
   "cell_type": "code",
   "execution_count": 191,
   "id": "ec075555",
   "metadata": {},
   "outputs": [
    {
     "data": {
      "text/html": [
       "<div>\n",
       "<style scoped>\n",
       "    .dataframe tbody tr th:only-of-type {\n",
       "        vertical-align: middle;\n",
       "    }\n",
       "\n",
       "    .dataframe tbody tr th {\n",
       "        vertical-align: top;\n",
       "    }\n",
       "\n",
       "    .dataframe thead th {\n",
       "        text-align: right;\n",
       "    }\n",
       "</style>\n",
       "<table border=\"1\" class=\"dataframe\">\n",
       "  <thead>\n",
       "    <tr style=\"text-align: right;\">\n",
       "      <th></th>\n",
       "      <th>Tickers</th>\n",
       "      <th>Weights</th>\n",
       "    </tr>\n",
       "  </thead>\n",
       "  <tbody>\n",
       "    <tr>\n",
       "      <th>2</th>\n",
       "      <td>XLP</td>\n",
       "      <td>0.560</td>\n",
       "    </tr>\n",
       "    <tr>\n",
       "      <th>3</th>\n",
       "      <td>XLV</td>\n",
       "      <td>0.397</td>\n",
       "    </tr>\n",
       "    <tr>\n",
       "      <th>1</th>\n",
       "      <td>SPYV</td>\n",
       "      <td>0.238</td>\n",
       "    </tr>\n",
       "    <tr>\n",
       "      <th>0</th>\n",
       "      <td>EWW</td>\n",
       "      <td>-0.194</td>\n",
       "    </tr>\n",
       "  </tbody>\n",
       "</table>\n",
       "</div>"
      ],
      "text/plain": [
       "  Tickers  Weights\n",
       "2     XLP    0.560\n",
       "3     XLV    0.397\n",
       "1    SPYV    0.238\n",
       "0     EWW   -0.194"
      ]
     },
     "execution_count": 191,
     "metadata": {},
     "output_type": "execute_result"
    }
   ],
   "source": [
    "pd.DataFrame({'Tickers':tickers, 'Weights':weights}).sort_values('Weights', ascending=False)"
   ]
  },
  {
   "cell_type": "markdown",
   "id": "caafb0b1",
   "metadata": {},
   "source": [
    "<font color='red'> Highest sharpe ratio of 1.07 is attained with high weight in MSFT (40%).  The performance of MSFT dominates the portfolio. TSLA, JNJ and WMT have weights of 12%, the rest are less than 10%. "
   ]
  },
  {
   "cell_type": "markdown",
   "id": "6ced89e9",
   "metadata": {},
   "source": [
    "# Thank you for reading :)"
   ]
  }
 ],
 "metadata": {
  "kernelspec": {
   "display_name": "Python 3 (ipykernel)",
   "language": "python",
   "name": "python3"
  },
  "language_info": {
   "codemirror_mode": {
    "name": "ipython",
    "version": 3
   },
   "file_extension": ".py",
   "mimetype": "text/x-python",
   "name": "python",
   "nbconvert_exporter": "python",
   "pygments_lexer": "ipython3",
   "version": "3.9.18"
  }
 },
 "nbformat": 4,
 "nbformat_minor": 5
}
