{
 "cells": [
  {
   "attachments": {},
   "cell_type": "markdown",
   "metadata": {},
   "source": [
    "## *Trade Idea 1*\n",
    "\n",
    "**Asset**: USO US (Oil)\n",
    "\n",
    "**Entry Point**: 74.84\n",
    "\n",
    "**Limit**: 82.00\n",
    "\n",
    "**Stop Loss**: 71.50\n",
    "\n",
    "**Time Horizon**: 2 Weeks\n",
    "\n",
    "**Expected PnL**: 9%\n",
    "\n",
    "**Size**: $7.5 mn\n",
    "\n",
    "\n"
   ]
  },
  {
   "attachments": {},
   "cell_type": "markdown",
   "metadata": {},
   "source": [
    "**Thesis**: \n",
    "1. Escalating hostilities between Israel & Iran following missile attack\n",
    "\n",
    "2. Winder cycle \n",
    "\n",
    "3. China stimulus and US economy GDP growing strongly leading to higher activity and oil demand\n",
    "\n",
    "4. Biden remarks on Iran missile retalliation\n",
    "\n",
    "5. Seems like lots of upward pressure, and traders expected to pile in as uncertainty increases\n",
    "\n",
    "6. Short term trade while conflict escalates\n",
    "\n",
    "**TRADE: Long Oil**\n"
   ]
  },
  {
   "attachments": {},
   "cell_type": "markdown",
   "metadata": {},
   "source": [
    "### Image Example 1"
   ]
  },
  {
   "cell_type": "code",
   "execution_count": null,
   "metadata": {},
   "outputs": [],
   "source": [
    "import matplotlib.pyplot as plt\n",
    "import matplotlib.image as mpimg\n",
    "\n",
    "# Load an image\n",
    "img = mpimg.imread('images/1.png')\n",
    "\n",
    "# Display the image\n",
    "imgplot = plt.imshow(img)\n",
    "plt.show()"
   ]
  }
 ],
 "metadata": {
  "kernelspec": {
   "display_name": "Python 3",
   "language": "python",
   "name": "python3"
  },
  "language_info": {
   "codemirror_mode": {
    "name": "ipython",
    "version": 3
   },
   "file_extension": ".py",
   "mimetype": "text/x-python",
   "name": "python",
   "nbconvert_exporter": "python",
   "pygments_lexer": "ipython3",
   "version": "3.10.5 (v3.10.5:f377153967, Jun  6 2022, 12:36:10) [Clang 13.0.0 (clang-1300.0.29.30)]"
  },
  "orig_nbformat": 4,
  "vscode": {
   "interpreter": {
    "hash": "aee8b7b246df8f9039afb4144a1f6fd8d2ca17a180786b69acc140d282b71a49"
   }
  }
 },
 "nbformat": 4,
 "nbformat_minor": 2
}
