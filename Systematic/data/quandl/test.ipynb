{
 "cells": [
  {
   "cell_type": "code",
   "execution_count": 38,
   "metadata": {},
   "outputs": [
    {
     "name": "stdout",
     "output_type": "stream",
     "text": [
      "200\n",
      "Stock Symbol: IBM\n",
      "Values updated: 2024-10-07\n",
      "Function type: ['Time Series (Daily)']\n"
     ]
    }
   ],
   "source": [
    "import requests\n",
    "import json\n",
    "import pandas as pd\n",
    "\n",
    "URL = 'https://www.alphavantage.co/query'\n",
    "function = 'TIME_SERIES_DAILY'\n",
    "\n",
    "params = {\n",
    "    \"function\": function,\n",
    "    \"symbol\": \"IBM\", \n",
    "    \"apikey\": \"demo\"\n",
    "}\n",
    "\n",
    "r = requests.get(url=URL, params=params)\n",
    "print(r.status_code)\n",
    "stock_values = r.json()\n",
    "stock_values\n",
    "\n",
    "with open(\"IBM.json\", 'w') as f: \n",
    "    json.dump(stock_values, f)\n",
    "\n",
    "with open(\"IBM.json\", \"r\") as f: \n",
    "    data = json.load(f)\n",
    "\n",
    "print(f\"Stock Symbol: {data['Meta Data']['2. Symbol']}\")\n",
    "print(f\"Values updated: {data['Meta Data']['3. Last Refreshed']}\")\n",
    "print(f\"Function type: {[key for key in data.keys() if key != 'Meta Data']}\")\n"
   ]
  },
  {
   "cell_type": "code",
   "execution_count": 78,
   "metadata": {},
   "outputs": [
    {
     "data": {
      "text/plain": [
       "['07', '10', '2024']"
      ]
     },
     "execution_count": 78,
     "metadata": {},
     "output_type": "execute_result"
    }
   ],
   "source": [
    "i.split('-')[::-1]"
   ]
  },
  {
   "cell_type": "code",
   "execution_count": 80,
   "metadata": {},
   "outputs": [
    {
     "name": "stdout",
     "output_type": "stream",
     "text": [
      "Date          Close\n",
      "07/10/2024    227.1200\n",
      "04/10/2024    226.0000\n",
      "03/10/2024    222.7200\n",
      "02/10/2024    219.7300\n",
      "01/10/2024    219.3500\n",
      "30/09/2024    221.0800\n",
      "27/09/2024    220.8400\n",
      "26/09/2024    223.4300\n",
      "25/09/2024    221.2300\n",
      "24/09/2024    220.9700\n",
      "23/09/2024    220.5000\n",
      "20/09/2024    217.7000\n",
      "19/09/2024    213.8900\n",
      "18/09/2024    214.9400\n",
      "17/09/2024    214.1300\n",
      "16/09/2024    217.1600\n",
      "13/09/2024    214.7900\n",
      "12/09/2024    211.6100\n",
      "11/09/2024    209.8900\n",
      "10/09/2024    205.3200\n",
      "09/09/2024    203.5300\n",
      "06/09/2024    200.7400\n",
      "05/09/2024    202.5900\n",
      "04/09/2024    204.1100\n",
      "03/09/2024    201.2800\n",
      "30/08/2024    202.1300\n",
      "29/08/2024    198.9000\n",
      "28/08/2024    198.4600\n",
      "27/08/2024    198.7300\n",
      "26/08/2024    197.9800\n",
      "23/08/2024    196.1000\n",
      "22/08/2024    195.9600\n",
      "21/08/2024    197.2100\n",
      "20/08/2024    196.0300\n",
      "19/08/2024    194.7300\n",
      "16/08/2024    193.7800\n",
      "15/08/2024    193.9500\n",
      "14/08/2024    192.3200\n",
      "13/08/2024    190.9900\n",
      "12/08/2024    189.4800\n",
      "09/08/2024    191.4500\n",
      "08/08/2024    192.6100\n",
      "07/08/2024    186.8000\n",
      "06/08/2024    186.8000\n",
      "05/08/2024    183.3100\n",
      "02/08/2024    189.1200\n",
      "01/08/2024    189.6600\n",
      "31/07/2024    192.1400\n",
      "30/07/2024    191.0400\n",
      "29/07/2024    191.5000\n",
      "26/07/2024    191.7500\n",
      "25/07/2024    191.9800\n",
      "24/07/2024    184.0200\n",
      "23/07/2024    184.1000\n",
      "22/07/2024    184.1500\n",
      "19/07/2024    183.2500\n",
      "18/07/2024    185.2200\n",
      "17/07/2024    187.4500\n",
      "16/07/2024    185.8100\n",
      "15/07/2024    182.8800\n",
      "12/07/2024    182.8300\n",
      "11/07/2024    178.3100\n",
      "10/07/2024    177.8400\n",
      "09/07/2024    176.4800\n",
      "08/07/2024    177.6400\n",
      "05/07/2024    176.0200\n",
      "03/07/2024    175.7300\n",
      "02/07/2024    177.3000\n",
      "01/07/2024    175.1000\n",
      "28/06/2024    172.9500\n",
      "27/06/2024    170.8500\n",
      "26/06/2024    171.8700\n",
      "25/06/2024    172.6000\n",
      "24/06/2024    175.0100\n",
      "21/06/2024    172.4600\n",
      "20/06/2024    173.9200\n",
      "18/06/2024    170.5500\n",
      "17/06/2024    169.5000\n",
      "14/06/2024    169.2100\n",
      "13/06/2024    169.1200\n",
      "12/06/2024    169.0000\n",
      "11/06/2024    169.3200\n",
      "10/06/2024    170.3800\n",
      "07/06/2024    170.0100\n",
      "06/06/2024    168.2000\n",
      "05/06/2024    167.3800\n",
      "04/06/2024    165.8100\n",
      "03/06/2024    165.2800\n",
      "31/05/2024    166.8500\n",
      "30/05/2024    165.6300\n",
      "29/05/2024    167.0500\n",
      "28/05/2024    169.6600\n",
      "24/05/2024    170.8900\n",
      "23/05/2024    170.6700\n",
      "22/05/2024    173.6900\n",
      "21/05/2024    173.4700\n",
      "20/05/2024    169.9200\n",
      "17/05/2024    169.0300\n",
      "16/05/2024    168.9700\n",
      "15/05/2024    168.2600\n"
     ]
    }
   ],
   "source": [
    "print(\"Date          Close\")\n",
    "for i in {date: data['Time Series (Daily)'][date]['4. close'] for date in data['Time Series (Daily)'].keys()}: \n",
    "    print(f\"{'/'.join(i.split('-')[::-1])}    {data['Time Series (Daily)'][i]['4. close']}\")"
   ]
  },
  {
   "cell_type": "code",
   "execution_count": 15,
   "metadata": {},
   "outputs": [
    {
     "data": {
      "text/plain": [
       "['JSONDecodeError',\n",
       " 'JSONDecoder',\n",
       " 'JSONEncoder',\n",
       " '__all__',\n",
       " '__author__',\n",
       " '__builtins__',\n",
       " '__cached__',\n",
       " '__doc__',\n",
       " '__file__',\n",
       " '__loader__',\n",
       " '__name__',\n",
       " '__package__',\n",
       " '__path__',\n",
       " '__spec__',\n",
       " '__version__',\n",
       " '_default_decoder',\n",
       " '_default_encoder',\n",
       " 'codecs',\n",
       " 'decoder',\n",
       " 'detect_encoding',\n",
       " 'dump',\n",
       " 'dumps',\n",
       " 'encoder',\n",
       " 'load',\n",
       " 'loads',\n",
       " 'scanner']"
      ]
     },
     "execution_count": 15,
     "metadata": {},
     "output_type": "execute_result"
    }
   ],
   "source": [
    "dir(json)"
   ]
  },
  {
   "cell_type": "code",
   "execution_count": 81,
   "metadata": {},
   "outputs": [
    {
     "data": {
      "text/plain": [
       "71703.0"
      ]
     },
     "execution_count": 81,
     "metadata": {},
     "output_type": "execute_result"
    }
   ],
   "source": [
    "37700*0.2 + (125140-37700)*0.4 + (190000-125140)*0.45"
   ]
  },
  {
   "cell_type": "code",
   "execution_count": null,
   "metadata": {},
   "outputs": [],
   "source": []
  }
 ],
 "metadata": {
  "kernelspec": {
   "display_name": "Python 3",
   "language": "python",
   "name": "python3"
  },
  "language_info": {
   "codemirror_mode": {
    "name": "ipython",
    "version": 3
   },
   "file_extension": ".py",
   "mimetype": "text/x-python",
   "name": "python",
   "nbconvert_exporter": "python",
   "pygments_lexer": "ipython3",
   "version": "3.10.5"
  },
  "orig_nbformat": 4,
  "vscode": {
   "interpreter": {
    "hash": "aee8b7b246df8f9039afb4144a1f6fd8d2ca17a180786b69acc140d282b71a49"
   }
  }
 },
 "nbformat": 4,
 "nbformat_minor": 2
}
