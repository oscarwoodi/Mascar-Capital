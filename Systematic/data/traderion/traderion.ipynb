{
 "cells": [
  {
   "cell_type": "code",
   "execution_count": 35,
   "metadata": {},
   "outputs": [],
   "source": [
    "from selenium import webdriver\n",
    "from selenium.webdriver.common.by import By\n",
    "from selenium.webdriver.common.keys import Keys\n",
    "from selenium.webdriver.support.ui import WebDriverWait\n",
    "from selenium.webdriver.support import expected_conditions as EC\n",
    "import time\n",
    "\n",
    "# VARS\n",
    "USERNAME = 'bh24.team4'\n",
    "PASSWORD = 'traderion'\n",
    "USER = 'Oscar Wooding'\n",
    "ASSET_PATH = 'ETF Equities/North America/ProShares VIX Short-Term Futures ETF'\n",
    "DIRECTION = 'buy'  # or sell\n",
    "UNITS = 1\n"
   ]
  },
  {
   "cell_type": "code",
   "execution_count": 46,
   "metadata": {},
   "outputs": [],
   "source": [
    "\n",
    "# Set up the WebDriver (ensure you have the correct driver installed)\n",
    "driver = webdriver.Chrome()\n",
    "\n",
    "# Open the page\n",
    "driver.get('https://portfolio.traderion.com/auth/login')  # Replace with the actual URL\n",
    "\n",
    "# Wait for the page to load\n",
    "driver.implicitly_wait(5)  # Wait for 10 seconds\n",
    "\n",
    "# Find username and password entry\n",
    "username_box = driver.find_element(By.ID, 'normal_login_username')  # Replace 'username' with the actual id\n",
    "password_box = driver.find_element(By.ID, 'normal_login_password')  # Replace 'password' with the actual id\n",
    "\n",
    "# Enter login credentials\n",
    "username_box.send_keys(USERNAME)  # Replace with your actual username\n",
    "password_box.send_keys(PASSWORD)  # Replace with your actual password\n",
    "\n",
    "# Find the login button and click it\n",
    "login_button = driver.find_element(By.CSS_SELECTOR, \"button.ant-btn.login-form-button.ant-btn-primary\")  # Replace 'login-button' with the actual id or name of the button\n",
    "login_button.click()\n",
    "\n",
    "# Locate the radio button corresponding to User using XPath\n",
    "radio = driver.find_element(By.XPATH, f\"//label[span[text()='{USER}']]/span/input\")\n",
    "radio.click()\n",
    "\n",
    "# Find the ok button and click it\n",
    "ok_button = driver.find_element(By.XPATH, \"//button[span[text()='Ok']]\")\n",
    "ok_button.click()\n",
    "\n",
    "# Find the row with the text \"Running\" and locate the corresponding 'Join' link\n",
    "join_button = driver.find_element(By.XPATH, \"//tr[td[text()='Running']]//a[text()='Join']\")\n",
    "join_button.click()\n",
    "\n",
    "# Locate and click the 'ETF Equities' tab\n",
    "etf_equities_tab = WebDriverWait(driver, 30).until(\n",
    "    EC.element_to_be_clickable((By.XPATH, f\"//div[@role='tab' and @aria-controls='tabpane-1']//span[contains(text(), '{ASSET_PATH.split('/')[0]}')]\"))\n",
    ")\n",
    "\n",
    "# Click the 'ETF Equities' tab\n",
    "etf_equities_tab.click()\n",
    "\n",
    "\n",
    "if len(ASSET_PATH.split('/')) == 3: \n",
    "    # Wait for the tab to be clickable and find the tab based on the value of asset country\n",
    "    tab = driver.find_element(By.XPATH, f\"//div[@role='tab' and text()='{ASSET_PATH.split('/')[1]}']\")\n",
    "    tab.click()\n",
    "    time.sleep(2)\n",
    "\n",
    "    # Find asset and wait for the 'trade' button to be visible after expanding\n",
    "    trade_button = driver.find_element(By.XPATH, f\"//div[@role='tab' and text()='{ASSET_PATH.split('/')[2]}']//following-sibling::div[contains(@class, 'ant-collapse-item')]//button[contains(text(), 'Trade')]\")\n",
    "    trade_button.click()\n",
    "    time.sleep(2)  # Adjust time as necessary\n",
    "\n",
    "elif len(ASSET_PATH.split('/')) == 2: \n",
    "    # Find asset and wait for the 'trade' button to be visible after expanding\n",
    "    trade_button = driver.find_element(By.XPATH, f\"//div[@role='tab' and text()='{ASSET_PATH.split('/')[1]}']//following-sibling::div[contains(@class, 'ant-collapse-item')]//button[contains(text(), 'Trade')]\")\n",
    "    trade_button.click()\n",
    "    time.sleep(2)  # Adjust time as necessary\n",
    "\n",
    "# Close the driver\n",
    "time.sleep(10)\n",
    "#driver.quit()"
   ]
  },
  {
   "cell_type": "code",
   "execution_count": 42,
   "metadata": {},
   "outputs": [
    {
     "data": {
      "text/plain": [
       "\"//div[@role='tab' and @aria-controls='tabpane-1']//span[contains(text(), 'ETF Equities')]\""
      ]
     },
     "execution_count": 42,
     "metadata": {},
     "output_type": "execute_result"
    }
   ],
   "source": [
    "f\"//div[@role='tab' and @aria-controls='tabpane-1']//span[contains(text(), '{ASSET_PATH.split('/')[0]}')]\""
   ]
  },
  {
   "cell_type": "code",
   "execution_count": null,
   "metadata": {},
   "outputs": [],
   "source": []
  }
 ],
 "metadata": {
  "kernelspec": {
   "display_name": "Python 3",
   "language": "python",
   "name": "python3"
  },
  "language_info": {
   "codemirror_mode": {
    "name": "ipython",
    "version": 3
   },
   "file_extension": ".py",
   "mimetype": "text/x-python",
   "name": "python",
   "nbconvert_exporter": "python",
   "pygments_lexer": "ipython3",
   "version": "3.10.5"
  },
  "orig_nbformat": 4,
  "vscode": {
   "interpreter": {
    "hash": "aee8b7b246df8f9039afb4144a1f6fd8d2ca17a180786b69acc140d282b71a49"
   }
  }
 },
 "nbformat": 4,
 "nbformat_minor": 2
}
